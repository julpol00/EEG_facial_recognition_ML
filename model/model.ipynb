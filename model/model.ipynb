{
 "cells": [
  {
   "cell_type": "code",
   "id": "initial_id",
   "metadata": {
    "collapsed": true,
    "ExecuteTime": {
     "end_time": "2025-03-25T21:59:59.375198Z",
     "start_time": "2025-03-25T21:59:59.362208Z"
    }
   },
   "source": [
    "import sklearn\n",
    "import mne\n",
    "import numpy as np\n",
    "import glob\n",
    "import os\n",
    "import sys\n",
    "import logging\n",
    "\n",
    "from sklearn.preprocessing import StandardScaler\n",
    "from sklearn.linear_model import LogisticRegression\n",
    "from sklearn.ensemble import GradientBoostingClassifier\n",
    "from sklearn.pipeline import Pipeline, make_pipeline\n",
    "from sklearn.preprocessing import StandardScaler, FunctionTransformer\n",
    "from sklearn.svm import SVC\n",
    "from sklearn.metrics import accuracy_score\n",
    "from sklearn.model_selection import GridSearchCV\n",
    "from joblib import parallel_backend\n",
    "import multiprocessing\n"
   ],
   "outputs": [],
   "execution_count": 18
  },
  {
   "metadata": {
    "ExecuteTime": {
     "end_time": "2025-03-25T21:25:25.449066Z",
     "start_time": "2025-03-25T21:25:25.435068Z"
    }
   },
   "cell_type": "code",
   "source": [
    "def split_train_test_path_list(data_path, file_name_template, train_ratio):\n",
    "    file_list = sorted(glob.glob(os.path.join(data_path, file_name_template)))\n",
    "    np.random.shuffle(file_list)\n",
    "    split_id = int(len(file_list) * train_ratio)\n",
    "\n",
    "    train_list = file_list[:split_id]\n",
    "    test_list = file_list[split_id:]\n",
    "\n",
    "    return train_list, test_list\n"
   ],
   "id": "43b7b52a181a65b3",
   "outputs": [],
   "execution_count": 2
  },
  {
   "metadata": {
    "ExecuteTime": {
     "end_time": "2025-03-25T21:25:25.464071Z",
     "start_time": "2025-03-25T21:25:25.457068Z"
    }
   },
   "cell_type": "code",
   "source": [
    "def read_eeg_epochs(train_list, test_list):\n",
    "    epochs_train_list = []\n",
    "    epochs_test_list = []\n",
    "\n",
    "    for file_path in train_list:\n",
    "        with mne.utils.use_log_level(\"ERROR\"):\n",
    "            epoch_train = mne.read_epochs(file_path, preload=True)\n",
    "            epochs_train_list.append(epoch_train)\n",
    "\n",
    "    for file_path in test_list:\n",
    "        with mne.utils.use_log_level(\"ERROR\"):\n",
    "            epoch_test = mne.read_epochs(file_path, preload=True)\n",
    "            epochs_test_list.append(epoch_test)\n",
    "\n",
    "    epochs_train = mne.concatenate_epochs(epochs_train_list)\n",
    "    epochs_test = mne.concatenate_epochs(epochs_test_list)\n",
    "\n",
    "    return epochs_train, epochs_test"
   ],
   "id": "f2c4cb8c973494e7",
   "outputs": [],
   "execution_count": 3
  },
  {
   "metadata": {
    "ExecuteTime": {
     "end_time": "2025-03-25T21:25:25.479069Z",
     "start_time": "2025-03-25T21:25:25.470068Z"
    }
   },
   "cell_type": "code",
   "source": [
    "def get_X_and_Y_from_epochs(train_list, test_list, events, picks=None, t_min = -0.2, t_max = 0.5):\n",
    "\n",
    "    epochs_train, epochs_test = read_eeg_epochs(train_list, test_list)\n",
    "\n",
    "    epochs_train_list_event1 = epochs_train[events[0]].get_data(picks=picks, tmin=t_min, tmax=t_max)\n",
    "    epochs_train_list_event2 = epochs_train[events[1]].get_data(picks=picks, tmin=t_min, tmax=t_max)\n",
    "\n",
    "    labels_up_train = [0] * len(epochs_train_list_event1)\n",
    "    labels_inv_train = [1] * len(epochs_train_list_event2)\n",
    "\n",
    "    X_train = np.concatenate((epochs_train_list_event1, epochs_train_list_event2), axis=0)\n",
    "    y_train = np.concatenate((labels_up_train, labels_inv_train), axis=0)\n",
    "\n",
    "    epochs_test_list_event1 = epochs_test[events[0]].get_data(picks=picks, tmin=t_min, tmax=t_max)\n",
    "    epochs_test_list_event2 = epochs_test[events[1]].get_data(picks=picks, tmin=t_min, tmax=t_max)\n",
    "\n",
    "    labels_up_test = [0] * len(epochs_test_list_event1)\n",
    "    labels_inv_test = [1] * len(epochs_test_list_event2)\n",
    "\n",
    "    X_test = np.concatenate((epochs_test_list_event1, epochs_test_list_event2), axis=0)\n",
    "    y_test = np.concatenate((labels_up_test, labels_inv_test), axis=0)\n",
    "\n",
    "\n",
    "    return X_train, X_test, y_train, y_test"
   ],
   "id": "a7cf908c72c64b57",
   "outputs": [],
   "execution_count": 4
  },
  {
   "metadata": {
    "ExecuteTime": {
     "end_time": "2025-03-25T21:25:26.410783Z",
     "start_time": "2025-03-25T21:25:26.397786Z"
    }
   },
   "cell_type": "code",
   "source": [
    "def train_and_test_model(X_train, X_test, y_train, y_test, pipeline, gridSerach = False):\n",
    "\n",
    "    pipeline.fit(X_train, y_train)\n",
    "\n",
    "    # predict test data\n",
    "    y_test_pred = pipeline.predict(X_test)\n",
    "    test_score = accuracy_score(y_test, y_test_pred)\n",
    "\n",
    "    # predict train data\n",
    "    y_train_pred = pipeline.predict(X_train)\n",
    "    train_score = accuracy_score(y_train, y_train_pred)\n",
    "\n",
    "    print(f\"test_score: {test_score:.4f}\")\n",
    "    print(f\"train_score: {train_score:.4f}\")\n",
    "\n",
    "    if gridSerach:\n",
    "        print(f\"The best parameters: {pipeline.best_params_}\")\n",
    "        print(f\"The best accuracy: {pipeline.best_score_:.4f}\")"
   ],
   "id": "eebac4b5b4aa7f67",
   "outputs": [],
   "execution_count": 5
  },
  {
   "metadata": {
    "ExecuteTime": {
     "end_time": "2025-03-25T21:25:26.458785Z",
     "start_time": "2025-03-25T21:25:26.446786Z"
    }
   },
   "cell_type": "code",
   "source": [
    "log_file = \"training_log.txt\"\n",
    "logging.basicConfig(\n",
    "    level=logging.INFO,\n",
    "    format=\"%(asctime)s - %(levelname)s - %(message)s\",\n",
    "    handlers=[\n",
    "        logging.FileHandler(log_file, mode=\"a\"), # a to overwrite\n",
    "        logging.StreamHandler()\n",
    "    ]\n",
    ")\n",
    "\n",
    "class StreamToLogger:\n",
    "    def __init__(self, logger, level):\n",
    "        self.logger = logger\n",
    "        self.level = level\n",
    "        self.line_buffer = \"\"\n",
    "\n",
    "    def write(self, message):\n",
    "        if message.strip():\n",
    "            self.logger.log(self.level, message.strip())\n",
    "\n",
    "    def flush(self):\n",
    "        pass\n",
    "\n",
    "sys.stdout = StreamToLogger(logging.getLogger(), logging.INFO)\n",
    "sys.stderr = StreamToLogger(logging.getLogger(), logging.ERROR)\n"
   ],
   "id": "b375c7108d1cb9af",
   "outputs": [],
   "execution_count": 6
  },
  {
   "metadata": {
    "ExecuteTime": {
     "end_time": "2025-03-25T21:43:54.842630Z",
     "start_time": "2025-03-25T21:43:54.835618Z"
    }
   },
   "cell_type": "code",
   "source": [
    "dir_path = 'D:\\studia\\magisterka\\dane EEG\\BADANIE_POLITYCZNE_2022_eeg_bdfy\\EEG_preprocessed'\n",
    "file_name_template = \"s*.bdf-epo.fif\"\n",
    "train_ratio = 0.8\n",
    "\n",
    "flatten_transformer = FunctionTransformer(lambda X: X.reshape(X.shape[0], -1))"
   ],
   "id": "84b2443e97141478",
   "outputs": [],
   "execution_count": 17
  },
  {
   "metadata": {},
   "cell_type": "markdown",
   "source": "## MODEL 1: time-range 0-250 Logistic Regression",
   "id": "25dc4b449e6d6d9d"
  },
  {
   "metadata": {
    "ExecuteTime": {
     "end_time": "2025-03-13T21:07:10.527666Z",
     "start_time": "2025-03-13T21:06:29.937037Z"
    }
   },
   "cell_type": "code",
   "source": [
    "model_1 = Pipeline(steps=[('reshape', flatten_transformer), ('scaler', StandardScaler()), ('logisticRegression', LogisticRegression(max_iter=10000))])\n",
    "\n",
    "train_list, test_list = split_train_test_path_list(dir_path, file_name_template, train_ratio)\n",
    "X_train, X_test, y_train, y_test = get_X_and_Y_from_epochs(train_list, test_list, [\"up\", \"inv\"], t_min = 0.0, t_max = 0.25)\n",
    "\n",
    "train_and_test_model(X_train, X_test, y_train, y_test, model_1)"
   ],
   "id": "d78fbc30a8e8a399",
   "outputs": [
    {
     "name": "stdout",
     "output_type": "stream",
     "text": [
      "Not setting metadata\n",
      "18705 matching events found\n",
      "Applying baseline correction (mode: mean)\n",
      "Not setting metadata\n",
      "4631 matching events found\n",
      "Applying baseline correction (mode: mean)\n",
      "test_score: 0.7385\n",
      "train_score: 0.8254\n"
     ]
    }
   ],
   "execution_count": 21
  },
  {
   "metadata": {},
   "cell_type": "markdown",
   "source": "### MODEL 2: Support Vector Machine with grid search\n",
   "id": "6a3549f491240355"
  },
  {
   "metadata": {
    "ExecuteTime": {
     "end_time": "2025-03-25T21:43:47.195654Z",
     "start_time": "2025-03-25T21:43:47.150654Z"
    }
   },
   "cell_type": "code",
   "source": [
    "model_2 = Pipeline(steps=[('reshape', flatten_transformer), ('scaler', StandardScaler()), ('svc', SVC())])\n",
    "\n",
    "param_grid = dict(\n",
    "    svc__kernel=['linear'],\n",
    "    svc__C=[0.1, 1.0],\n",
    "    svc__gamma=[0.001, 0.01],\n",
    ")\n",
    "\n",
    "logging.info(\"Rozpoczynam trenowanie modelu...\")\n",
    "train_list, test_list = split_train_test_path_list(dir_path, file_name_template, train_ratio)\n",
    "X_train, X_test, y_train, y_test = get_X_and_Y_from_epochs(train_list, test_list, [\"up\", \"inv\"], t_min = 0.0, t_max = 0.25)\n",
    "logging.info(\"Rozpoczęto GridSearchCV.\")\n",
    "with parallel_backend('multiprocessing'):\n",
    "    grid_search_model_2 = GridSearchCV(model_2, param_grid, cv=3, scoring='accuracy', n_jobs = -1, verbose=3)\n",
    "    train_and_test_model(X_train, X_test, y_train, y_test, grid_search_model_2, True)\n",
    "\n",
    "\n",
    "logging.info(f\"Najlepsze parametry: {grid_search_model_2.best_params_}\")\n",
    "logging.info(f\"Najlepszy wynik cross-validation: {grid_search_model_2.best_score_}\")\n",
    "logging.info(\"Trenowanie zakończone.\")"
   ],
   "id": "5c96ea5fa284b9ee",
   "outputs": [
    {
     "ename": "NameError",
     "evalue": "name 'flatten_transformer' is not defined",
     "output_type": "error",
     "traceback": [
      "\u001B[1;31m---------------------------------------------------------------------------\u001B[0m",
      "\u001B[1;31mNameError\u001B[0m                                 Traceback (most recent call last)",
      "Cell \u001B[1;32mIn[16], line 1\u001B[0m\n\u001B[1;32m----> 1\u001B[0m model_2 \u001B[38;5;241m=\u001B[39m Pipeline(steps\u001B[38;5;241m=\u001B[39m[(\u001B[38;5;124m'\u001B[39m\u001B[38;5;124mreshape\u001B[39m\u001B[38;5;124m'\u001B[39m, \u001B[43mflatten_transformer\u001B[49m), (\u001B[38;5;124m'\u001B[39m\u001B[38;5;124mscaler\u001B[39m\u001B[38;5;124m'\u001B[39m, StandardScaler()), (\u001B[38;5;124m'\u001B[39m\u001B[38;5;124msvc\u001B[39m\u001B[38;5;124m'\u001B[39m, SVC())])\n\u001B[0;32m      3\u001B[0m \u001B[38;5;66;03m# param_grid = dict(\u001B[39;00m\n\u001B[0;32m      4\u001B[0m \u001B[38;5;66;03m#     svc__kernel=['linear', 'poly', 'rbf'],\u001B[39;00m\n\u001B[0;32m      5\u001B[0m \u001B[38;5;66;03m#     svc__C=[0.0001, 0.01, 0.1, 1.0, 10, 100],\u001B[39;00m\n\u001B[1;32m   (...)\u001B[0m\n\u001B[0;32m     19\u001B[0m \u001B[38;5;66;03m#     svc__gamma=['scale', 'auto', 0.001, 0.01, 0.1, 1],  # Usunięcie bardzo małych wartości\u001B[39;00m\n\u001B[0;32m     20\u001B[0m \u001B[38;5;66;03m# )\u001B[39;00m\n\u001B[0;32m     22\u001B[0m param_grid \u001B[38;5;241m=\u001B[39m \u001B[38;5;28mdict\u001B[39m(\n\u001B[0;32m     23\u001B[0m     svc__kernel\u001B[38;5;241m=\u001B[39m[\u001B[38;5;124m'\u001B[39m\u001B[38;5;124mlinear\u001B[39m\u001B[38;5;124m'\u001B[39m],\n\u001B[0;32m     24\u001B[0m     svc__C\u001B[38;5;241m=\u001B[39m[\u001B[38;5;241m0.1\u001B[39m, \u001B[38;5;241m1.0\u001B[39m],\n\u001B[0;32m     25\u001B[0m     svc__gamma\u001B[38;5;241m=\u001B[39m[\u001B[38;5;241m0.001\u001B[39m, \u001B[38;5;241m0.01\u001B[39m],\n\u001B[0;32m     26\u001B[0m )\n",
      "\u001B[1;31mNameError\u001B[0m: name 'flatten_transformer' is not defined"
     ]
    }
   ],
   "execution_count": 16
  }
 ],
 "metadata": {
  "kernelspec": {
   "display_name": "Python 3",
   "language": "python",
   "name": "python3"
  },
  "language_info": {
   "codemirror_mode": {
    "name": "ipython",
    "version": 2
   },
   "file_extension": ".py",
   "mimetype": "text/x-python",
   "name": "python",
   "nbconvert_exporter": "python",
   "pygments_lexer": "ipython2",
   "version": "2.7.6"
  }
 },
 "nbformat": 4,
 "nbformat_minor": 5
}
