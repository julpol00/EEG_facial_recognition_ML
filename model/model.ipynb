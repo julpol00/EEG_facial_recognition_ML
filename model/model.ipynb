{
 "cells": [
  {
   "cell_type": "code",
   "id": "initial_id",
   "metadata": {
    "collapsed": true,
    "ExecuteTime": {
     "end_time": "2025-02-16T17:34:07.038417Z",
     "start_time": "2025-02-16T17:34:07.024408Z"
    }
   },
   "source": [
    "import sklearn\n",
    "import mne\n",
    "import numpy as np\n",
    "import glob\n",
    "import os\n",
    "from sklearn.model_selection import train_test_split\n",
    "from sklearn.preprocessing import StandardScaler\n",
    "from sklearn.linear_model import LogisticRegression\n",
    "from sklearn.metrics import accuracy_score\n"
   ],
   "outputs": [],
   "execution_count": 47
  },
  {
   "metadata": {},
   "cell_type": "markdown",
   "source": "to była moja pierwsz myśl, że tak nalezy zrobić, aleee wtedy zostało nam 50 próbek, dlatego wydaje mi się, że nie powinnismy robić tutaj tego uśrednienia.",
   "id": "7d85ac558d1d9562"
  },
  {
   "metadata": {
    "ExecuteTime": {
     "end_time": "2025-02-16T17:33:56.469698Z",
     "start_time": "2025-02-16T17:33:56.457685Z"
    }
   },
   "cell_type": "code",
   "source": [
    "# # to była moja pierwsz myśl, że tak nalezy zrobić, aleee wtedy zostało nam 50 próbek, dlatego wydaje mi się, że nie powinnismy robić tutaj tego uśrednienia.\n",
    "#\n",
    "# data_path = r\"D:\\studia\\magisterka\\dane EEG\\BADANIE_POLITYCZNE_2022_eeg_bdfy\\EEG_preprocessed\"\n",
    "#\n",
    "# file_list = sorted(glob.glob(os.path.join(data_path, \"s*.bdf-epo.fif\")))\n",
    "#\n",
    "# evoked_list_up = []\n",
    "# evoked_list_inv = []\n",
    "#\n",
    "# for file_path in file_list:\n",
    "#     epochs = mne.read_epochs(file_path, preload=True)\n",
    "#\n",
    "#     evoked_up = epochs[\"up\"].average() ## CZY TO JEST KONIECZNE??\n",
    "#     evoked_up = np.array(evoked_up.get_data())\n",
    "#     evoked_list_up.append(evoked_up)\n",
    "#\n",
    "#\n",
    "#     evoked_inv = epochs[\"inv\"].average() ## CZY TO JEST KONIECZNE??\n",
    "#     evoked_inv = np.array(evoked_inv.get_data())\n",
    "#     print(evoked_inv.shape)\n",
    "#     evoked_list_inv.append(evoked_inv)\n",
    "#\n",
    "# evoked_list_up = np.array(evoked_list_up)\n",
    "# evoked_list_inv = np.array(evoked_list_inv)\n",
    "#\n",
    "# print(evoked_list_up.shape, evoked_list_inv.shape)"
   ],
   "id": "e30cf11d4927762c",
   "outputs": [],
   "execution_count": 46
  },
  {
   "metadata": {
    "ExecuteTime": {
     "end_time": "2025-02-16T17:32:16.207040Z",
     "start_time": "2025-02-16T17:32:16.193905Z"
    }
   },
   "cell_type": "code",
   "source": [
    "def load_eeg_epochs(data_path, picks=None, t_min = -0.2, t_max = 0.5):\n",
    "    file_list = sorted(glob.glob(os.path.join(data_path, \"s*.bdf-epo.fif\")))\n",
    "\n",
    "    epochs_list_up = []\n",
    "    epochs_list_inv = []\n",
    "\n",
    "    for file_path in file_list:\n",
    "        with mne.utils.use_log_level(\"ERROR\"):\n",
    "            epochs = mne.read_epochs(file_path, preload=True)\n",
    "\n",
    "            epochs_up = epochs[\"up\"]\n",
    "            epochs_up = np.array(epochs_up.get_data(picks=picks, tmin=t_min, tmax=t_max))\n",
    "            for i in range(epochs_up.shape[0]):\n",
    "                epochs_list_up.append(epochs_up[i])\n",
    "\n",
    "\n",
    "            epochs_inv = epochs[\"inv\"]\n",
    "            epochs_inv = np.array(epochs_inv.get_data(picks=picks, tmin=t_min, tmax=t_max))\n",
    "            for i in range(epochs_inv.shape[0]):\n",
    "                epochs_list_inv.append(epochs_inv[i])\n",
    "\n",
    "    epochs_list_up = np.array(epochs_list_up)\n",
    "    epochs_list_inv = np.array(epochs_list_inv)\n",
    "\n",
    "    epochs_list_up = epochs_list_up.reshape(epochs_list_up.shape[0], -1)\n",
    "    epochs_list_inv = epochs_list_inv.reshape(epochs_list_inv.shape[0], -1)\n",
    "\n",
    "    labels_up = [0] * len(epochs_list_up)\n",
    "    labels_inv = [1] * len(epochs_list_inv)\n",
    "\n",
    "    X = np.concatenate((epochs_list_up, epochs_list_inv), axis=0)\n",
    "    Y = np.concatenate((labels_up, labels_inv), axis=0)\n",
    "\n",
    "    return X, Y"
   ],
   "id": "a7cf908c72c64b57",
   "outputs": [],
   "execution_count": 43
  },
  {
   "metadata": {
    "ExecuteTime": {
     "end_time": "2025-02-16T17:34:15.528360Z",
     "start_time": "2025-02-16T17:34:15.508313Z"
    }
   },
   "cell_type": "code",
   "source": [
    "def train_and_test_model(X, Y):\n",
    "    X_train, X_test, y_train, y_test = train_test_split(\n",
    "        X,\n",
    "        Y,\n",
    "        test_size=0.2,\n",
    "        random_state=42\n",
    "    )\n",
    "\n",
    "    scaler = StandardScaler()\n",
    "    X_train = scaler.fit_transform(X_train)\n",
    "    X_test = scaler.transform(X_test)\n",
    "\n",
    "    model = LogisticRegression(max_iter=10000)\n",
    "    model.fit(X_train, y_train)\n",
    "\n",
    "    # predict test data\n",
    "    y_test_pred = model.predict(X_test)\n",
    "    test_score = accuracy_score(y_test, y_test_pred)\n",
    "\n",
    "    # predict train data\n",
    "    y_train_pred = model.predict(X_train)\n",
    "    train_score = accuracy_score(y_train, y_train_pred)\n",
    "\n",
    "    print(f\"test_score: {test_score:.4f}\")\n",
    "    print(f\"train_score: {train_score:.4f}\")\n"
   ],
   "id": "57884eb2a6009d39",
   "outputs": [],
   "execution_count": 48
  },
  {
   "metadata": {
    "ExecuteTime": {
     "end_time": "2025-02-16T17:34:39.575752Z",
     "start_time": "2025-02-16T17:34:16.898547Z"
    }
   },
   "cell_type": "code",
   "source": [
    "data_path = r\"D:\\studia\\magisterka\\dane EEG\\BADANIE_POLITYCZNE_2022_eeg_bdfy\\EEG_preprocessed\"\n",
    "picks_1 = [\"P3\", \"P4\", \"P7\", \"P8\", \"P9\", \"P10\", \"O1\", \"O2\"]\n",
    "picks_2 = [\"P7\", \"P8\"]\n",
    "\n",
    "X, Y = load_eeg_epochs(data_path)\n",
    "train_and_test_model(X, Y)\n",
    "\n",
    "X, Y = load_eeg_epochs(data_path, picks_1)\n",
    "train_and_test_model(X, Y)\n",
    "\n",
    "X, Y = load_eeg_epochs(data_path, picks_2)\n",
    "train_and_test_model(X, Y)"
   ],
   "id": "70a1dd8c021c2a3e",
   "outputs": [
    {
     "name": "stdout",
     "output_type": "stream",
     "text": [
      "test_score: 0.7430\n",
      "train_score: 0.9998\n",
      "test_score: 0.7336\n",
      "train_score: 0.7675\n",
      "test_score: 0.6981\n",
      "train_score: 0.7190\n"
     ]
    }
   ],
   "execution_count": 49
  }
 ],
 "metadata": {
  "kernelspec": {
   "display_name": "Python 3",
   "language": "python",
   "name": "python3"
  },
  "language_info": {
   "codemirror_mode": {
    "name": "ipython",
    "version": 2
   },
   "file_extension": ".py",
   "mimetype": "text/x-python",
   "name": "python",
   "nbconvert_exporter": "python",
   "pygments_lexer": "ipython2",
   "version": "2.7.6"
  }
 },
 "nbformat": 4,
 "nbformat_minor": 5
}
