{
 "cells": [
  {
   "cell_type": "code",
   "id": "initial_id",
   "metadata": {
    "collapsed": true,
    "ExecuteTime": {
     "end_time": "2025-03-03T19:53:01.224150Z",
     "start_time": "2025-03-03T19:52:59.695999Z"
    }
   },
   "source": [
    "import sklearn\n",
    "import mne\n",
    "import numpy as np\n",
    "import glob\n",
    "import os\n",
    "from sklearn.model_selection import train_test_split\n",
    "from sklearn.preprocessing import StandardScaler\n",
    "from sklearn.linear_model import LogisticRegression\n",
    "from sklearn.metrics import accuracy_score\n"
   ],
   "outputs": [],
   "execution_count": 1
  },
  {
   "metadata": {
    "ExecuteTime": {
     "end_time": "2025-03-03T19:57:08.285799Z",
     "start_time": "2025-03-03T19:57:08.274798Z"
    }
   },
   "cell_type": "code",
   "source": [
    "def split_train_test_path_list(data_path, file_name_template, train_ratio):\n",
    "    file_list = sorted(glob.glob(os.path.join(data_path, file_name_template)))\n",
    "    np.random.shuffle(file_list)\n",
    "    split_id = int(len(file_list) * train_ratio)\n",
    "\n",
    "    train_list = file_list[:split_id]\n",
    "    test_list = file_list[split_id:]\n",
    "\n",
    "    return train_list, test_list\n"
   ],
   "id": "43b7b52a181a65b3",
   "outputs": [],
   "execution_count": 7
  },
  {
   "metadata": {
    "ExecuteTime": {
     "end_time": "2025-03-03T20:17:32.906479Z",
     "start_time": "2025-03-03T20:17:32.893473Z"
    }
   },
   "cell_type": "code",
   "source": [
    "def read_eeg_epochs(train_list, test_list):\n",
    "    epochs_train_list = []\n",
    "    epochs_test_list = []\n",
    "\n",
    "    for file_path in train_list:\n",
    "        with mne.utils.use_log_level(\"ERROR\"):\n",
    "            epochs_train = mne.read_epochs(file_path, preload=True)\n",
    "            epochs_train_list.append(epochs_train)\n",
    "\n",
    "    for file_path in test_list:\n",
    "        with mne.utils.use_log_level(\"ERROR\"):\n",
    "            epochs_test = mne.read_epochs(file_path, preload=True)\n",
    "            epochs_test_list.append(epochs_test)\n",
    "\n",
    "    epochs_train = mne.concatenate_epochs(epochs_train_list)\n",
    "    epochs_test = mne.concatenate_epochs(epochs_test_list)\n",
    "\n",
    "    return epochs_train, epochs_test"
   ],
   "id": "f2c4cb8c973494e7",
   "outputs": [],
   "execution_count": 29
  },
  {
   "metadata": {
    "ExecuteTime": {
     "end_time": "2025-03-03T20:48:16.655451Z",
     "start_time": "2025-03-03T20:48:16.645449Z"
    }
   },
   "cell_type": "code",
   "source": [
    "def get_X_and_Y_from_epochs(epochs_train, epochs_test, picks=None, t_min = -0.2, t_max = 0.5):\n",
    "\n",
    "    epochs_up_train_list = epochs_train[\"up\"].get_data(picks=picks, tmin=t_min, tmax=t_max).reshape(len(epochs_train[\"up\"]), -1)\n",
    "    epochs_inv_train_list = epochs_train[\"inv\"].get_data(picks=picks, tmin=t_min, tmax=t_max).reshape(len(epochs_train[\"inv\"]), -1)\n",
    "\n",
    "    labels_up_train = [0] * len(epochs_up_train_list)\n",
    "    labels_inv_train = [1] * len(epochs_inv_train_list)\n",
    "\n",
    "    X_train = np.concatenate((epochs_up_train_list, epochs_inv_train_list), axis=0)\n",
    "    y_train = np.concatenate((labels_up_train, labels_inv_train), axis=0)\n",
    "\n",
    "    epochs_up_test_list = epochs_test[\"up\"].get_data(picks=picks, tmin=t_min, tmax=t_max).reshape(len(epochs_test[\"up\"]), -1)\n",
    "    epochs_inv_test_list = epochs_test[\"inv\"].get_data(picks=picks, tmin=t_min, tmax=t_max).reshape(len(epochs_test[\"inv\"]), -1)\n",
    "\n",
    "    labels_up_test = [0] * len(epochs_up_test_list)\n",
    "    labels_inv_test = [1] * len(epochs_inv_test_list)\n",
    "\n",
    "    X_test = np.concatenate((epochs_up_test_list, epochs_inv_test_list), axis=0)\n",
    "    y_test = np.concatenate((labels_up_test, labels_inv_test), axis=0)\n",
    "\n",
    "\n",
    "    return X_train, X_test, y_train, y_test"
   ],
   "id": "a7cf908c72c64b57",
   "outputs": [],
   "execution_count": 43
  },
  {
   "metadata": {
    "ExecuteTime": {
     "end_time": "2025-03-03T21:01:00.347209Z",
     "start_time": "2025-03-03T21:01:00.335207Z"
    }
   },
   "cell_type": "code",
   "source": [
    "def train_and_test_model(X_train, X_test, y_train, y_test):\n",
    "    scaler = StandardScaler()\n",
    "    X_train = scaler.fit_transform(X_train)\n",
    "    X_test = scaler.transform(X_test)\n",
    "\n",
    "    model = LogisticRegression(max_iter=10000)\n",
    "    model.fit(X_train, y_train)\n",
    "\n",
    "    # predict test data\n",
    "    y_test_pred = model.predict(X_test)\n",
    "    test_score = accuracy_score(y_test, y_test_pred)\n",
    "\n",
    "    # predict train data\n",
    "    y_train_pred = model.predict(X_train)\n",
    "    train_score = accuracy_score(y_train, y_train_pred)\n",
    "\n",
    "    print(f\"test_score: {test_score:.4f}\")\n",
    "    print(f\"train_score: {train_score:.4f}\")"
   ],
   "id": "eebac4b5b4aa7f67",
   "outputs": [],
   "execution_count": 45
  },
  {
   "metadata": {
    "ExecuteTime": {
     "end_time": "2025-03-03T21:02:53.651168Z",
     "start_time": "2025-03-03T21:01:23.552082Z"
    }
   },
   "cell_type": "code",
   "source": [
    "dir_path = 'D:\\studia\\magisterka\\dane EEG\\BADANIE_POLITYCZNE_2022_eeg_bdfy\\EEG_preprocessed'\n",
    "file_name_template = \"s*.bdf-epo.fif\"\n",
    "train_ratio = 0.8\n",
    "\n",
    "train_list, test_list = split_train_test_path_list(dir_path, file_name_template, train_ratio)\n",
    "epochs_train, epochs_test = read_eeg_epochs(train_list, test_list)\n",
    "X_train, X_test, y_train, y_test = get_X_and_Y_from_epochs(epochs_train, epochs_test )\n",
    "train_and_test_model(X_train, X_test, y_train, y_test)\n"
   ],
   "id": "d78fbc30a8e8a399",
   "outputs": [
    {
     "name": "stdout",
     "output_type": "stream",
     "text": [
      "Not setting metadata\n",
      "18583 matching events found\n",
      "Applying baseline correction (mode: mean)\n",
      "Not setting metadata\n",
      "4753 matching events found\n",
      "Applying baseline correction (mode: mean)\n",
      "test_score: 0.7671\n",
      "train_score: 0.9094\n"
     ]
    }
   ],
   "execution_count": 46
  }
 ],
 "metadata": {
  "kernelspec": {
   "display_name": "Python 3",
   "language": "python",
   "name": "python3"
  },
  "language_info": {
   "codemirror_mode": {
    "name": "ipython",
    "version": 2
   },
   "file_extension": ".py",
   "mimetype": "text/x-python",
   "name": "python",
   "nbconvert_exporter": "python",
   "pygments_lexer": "ipython2",
   "version": "2.7.6"
  }
 },
 "nbformat": 4,
 "nbformat_minor": 5
}
