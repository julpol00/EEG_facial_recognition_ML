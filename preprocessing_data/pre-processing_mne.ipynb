{
 "nbformat": 4,
 "nbformat_minor": 0,
 "metadata": {
  "colab": {
   "provenance": []
  },
  "kernelspec": {
   "name": "python3",
   "display_name": "Python 3 (ipykernel)",
   "language": "python"
  },
  "language_info": {
   "name": "python"
  }
 },
 "cells": [
  {
   "cell_type": "markdown",
   "source": [
    "# Basic EEG preprocessing"
   ],
   "metadata": {
    "id": "s5aQt9hI4Fzf"
   }
  },
  {
   "cell_type": "markdown",
   "source": [
    "nRequire to install MNE and AutoReject packages\n",
    "\n",
    "```\n",
    "pip install mne\n",
    "pip install autoreject\n",
    "```"
   ],
   "metadata": {
    "id": "qoCIB_8aeT2X"
   }
  },
  {
   "metadata": {
    "ExecuteTime": {
     "end_time": "2025-02-16T14:00:47.336496Z",
     "start_time": "2025-02-16T14:00:44.117570Z"
    }
   },
   "cell_type": "code",
   "source": "!pip install mne",
   "outputs": [
    {
     "name": "stdout",
     "output_type": "stream",
     "text": [
      "Requirement already satisfied: mne in c:\\users\\julia\\pycharmprojects\\pythonproject\\.venv\\lib\\site-packages (1.9.0)\n",
      "Requirement already satisfied: decorator in c:\\users\\julia\\pycharmprojects\\pythonproject\\.venv\\lib\\site-packages (from mne) (5.1.1)\n",
      "Requirement already satisfied: jinja2 in c:\\users\\julia\\pycharmprojects\\pythonproject\\.venv\\lib\\site-packages (from mne) (3.1.5)\n",
      "Requirement already satisfied: lazy-loader>=0.3 in c:\\users\\julia\\pycharmprojects\\pythonproject\\.venv\\lib\\site-packages (from mne) (0.4)\n",
      "Requirement already satisfied: matplotlib>=3.6 in c:\\users\\julia\\pycharmprojects\\pythonproject\\.venv\\lib\\site-packages (from mne) (3.10.0)\n",
      "Requirement already satisfied: numpy<3,>=1.23 in c:\\users\\julia\\pycharmprojects\\pythonproject\\.venv\\lib\\site-packages (from mne) (2.2.1)\n",
      "Requirement already satisfied: packaging in c:\\users\\julia\\pycharmprojects\\pythonproject\\.venv\\lib\\site-packages (from mne) (24.2)\n",
      "Requirement already satisfied: pooch>=1.5 in c:\\users\\julia\\pycharmprojects\\pythonproject\\.venv\\lib\\site-packages (from mne) (1.8.2)\n",
      "Requirement already satisfied: scipy>=1.9 in c:\\users\\julia\\pycharmprojects\\pythonproject\\.venv\\lib\\site-packages (from mne) (1.15.1)\n",
      "Requirement already satisfied: tqdm in c:\\users\\julia\\pycharmprojects\\pythonproject\\.venv\\lib\\site-packages (from mne) (4.67.1)\n",
      "Requirement already satisfied: contourpy>=1.0.1 in c:\\users\\julia\\pycharmprojects\\pythonproject\\.venv\\lib\\site-packages (from matplotlib>=3.6->mne) (1.3.1)\n",
      "Requirement already satisfied: cycler>=0.10 in c:\\users\\julia\\pycharmprojects\\pythonproject\\.venv\\lib\\site-packages (from matplotlib>=3.6->mne) (0.12.1)\n",
      "Requirement already satisfied: fonttools>=4.22.0 in c:\\users\\julia\\pycharmprojects\\pythonproject\\.venv\\lib\\site-packages (from matplotlib>=3.6->mne) (4.55.3)\n",
      "Requirement already satisfied: kiwisolver>=1.3.1 in c:\\users\\julia\\pycharmprojects\\pythonproject\\.venv\\lib\\site-packages (from matplotlib>=3.6->mne) (1.4.8)\n",
      "Requirement already satisfied: pillow>=8 in c:\\users\\julia\\pycharmprojects\\pythonproject\\.venv\\lib\\site-packages (from matplotlib>=3.6->mne) (11.1.0)\n",
      "Requirement already satisfied: pyparsing>=2.3.1 in c:\\users\\julia\\pycharmprojects\\pythonproject\\.venv\\lib\\site-packages (from matplotlib>=3.6->mne) (3.2.1)\n",
      "Requirement already satisfied: python-dateutil>=2.7 in c:\\users\\julia\\pycharmprojects\\pythonproject\\.venv\\lib\\site-packages (from matplotlib>=3.6->mne) (2.9.0.post0)\n",
      "Requirement already satisfied: platformdirs>=2.5.0 in c:\\users\\julia\\pycharmprojects\\pythonproject\\.venv\\lib\\site-packages (from pooch>=1.5->mne) (4.3.6)\n",
      "Requirement already satisfied: requests>=2.19.0 in c:\\users\\julia\\pycharmprojects\\pythonproject\\.venv\\lib\\site-packages (from pooch>=1.5->mne) (2.32.3)\n",
      "Requirement already satisfied: MarkupSafe>=2.0 in c:\\users\\julia\\pycharmprojects\\pythonproject\\.venv\\lib\\site-packages (from jinja2->mne) (3.0.2)\n",
      "Requirement already satisfied: colorama in c:\\users\\julia\\pycharmprojects\\pythonproject\\.venv\\lib\\site-packages (from tqdm->mne) (0.4.6)\n",
      "Requirement already satisfied: six>=1.5 in c:\\users\\julia\\pycharmprojects\\pythonproject\\.venv\\lib\\site-packages (from python-dateutil>=2.7->matplotlib>=3.6->mne) (1.17.0)\n",
      "Requirement already satisfied: charset-normalizer<4,>=2 in c:\\users\\julia\\pycharmprojects\\pythonproject\\.venv\\lib\\site-packages (from requests>=2.19.0->pooch>=1.5->mne) (3.4.1)\n",
      "Requirement already satisfied: idna<4,>=2.5 in c:\\users\\julia\\pycharmprojects\\pythonproject\\.venv\\lib\\site-packages (from requests>=2.19.0->pooch>=1.5->mne) (3.10)\n",
      "Requirement already satisfied: urllib3<3,>=1.21.1 in c:\\users\\julia\\pycharmprojects\\pythonproject\\.venv\\lib\\site-packages (from requests>=2.19.0->pooch>=1.5->mne) (2.3.0)\n",
      "Requirement already satisfied: certifi>=2017.4.17 in c:\\users\\julia\\pycharmprojects\\pythonproject\\.venv\\lib\\site-packages (from requests>=2.19.0->pooch>=1.5->mne) (2024.12.14)\n"
     ]
    },
    {
     "name": "stderr",
     "output_type": "stream",
     "text": [
      "\n",
      "[notice] A new release of pip is available: 23.2.1 -> 25.0.1\n",
      "[notice] To update, run: python.exe -m pip install --upgrade pip\n"
     ]
    }
   ],
   "execution_count": 1
  },
  {
   "metadata": {
    "ExecuteTime": {
     "end_time": "2025-02-02T17:31:01.071626Z",
     "start_time": "2025-02-02T17:30:43.409747Z"
    }
   },
   "cell_type": "code",
   "source": "!pip install autoreject",
   "outputs": [
    {
     "name": "stdout",
     "output_type": "stream",
     "text": [
      "Collecting autoreject\n",
      "  Obtaining dependency information for autoreject from https://files.pythonhosted.org/packages/45/cf/f34035d2de261064090cb46491b1b999f0b9711bc57da189ffe1b50df146/autoreject-0.4.3-py3-none-any.whl.metadata\n",
      "  Downloading autoreject-0.4.3-py3-none-any.whl.metadata (6.3 kB)\n",
      "Requirement already satisfied: numpy>=1.20.2 in c:\\users\\julia\\pycharmprojects\\pythonproject\\.venv\\lib\\site-packages (from autoreject) (2.2.1)\n",
      "Requirement already satisfied: scipy>=1.6.3 in c:\\users\\julia\\pycharmprojects\\pythonproject\\.venv\\lib\\site-packages (from autoreject) (1.15.1)\n",
      "Requirement already satisfied: mne[hdf5]>=1.0 in c:\\users\\julia\\pycharmprojects\\pythonproject\\.venv\\lib\\site-packages (from autoreject) (1.9.0)\n",
      "Collecting scikit-learn>=0.24.2 (from autoreject)\n",
      "  Obtaining dependency information for scikit-learn>=0.24.2 from https://files.pythonhosted.org/packages/17/04/d5d556b6c88886c092cc989433b2bab62488e0f0dafe616a1d5c9cb0efb1/scikit_learn-1.6.1-cp310-cp310-win_amd64.whl.metadata\n",
      "  Downloading scikit_learn-1.6.1-cp310-cp310-win_amd64.whl.metadata (15 kB)\n",
      "Collecting joblib (from autoreject)\n",
      "  Obtaining dependency information for joblib from https://files.pythonhosted.org/packages/91/29/df4b9b42f2be0b623cbd5e2140cafcaa2bef0759a00b7b70104dcfe2fb51/joblib-1.4.2-py3-none-any.whl.metadata\n",
      "  Downloading joblib-1.4.2-py3-none-any.whl.metadata (5.4 kB)\n",
      "Requirement already satisfied: matplotlib>=3.4.0 in c:\\users\\julia\\pycharmprojects\\pythonproject\\.venv\\lib\\site-packages (from autoreject) (3.10.0)\n",
      "Requirement already satisfied: contourpy>=1.0.1 in c:\\users\\julia\\pycharmprojects\\pythonproject\\.venv\\lib\\site-packages (from matplotlib>=3.4.0->autoreject) (1.3.1)\n",
      "Requirement already satisfied: cycler>=0.10 in c:\\users\\julia\\pycharmprojects\\pythonproject\\.venv\\lib\\site-packages (from matplotlib>=3.4.0->autoreject) (0.12.1)\n",
      "Requirement already satisfied: fonttools>=4.22.0 in c:\\users\\julia\\pycharmprojects\\pythonproject\\.venv\\lib\\site-packages (from matplotlib>=3.4.0->autoreject) (4.55.3)\n",
      "Requirement already satisfied: kiwisolver>=1.3.1 in c:\\users\\julia\\pycharmprojects\\pythonproject\\.venv\\lib\\site-packages (from matplotlib>=3.4.0->autoreject) (1.4.8)\n",
      "Requirement already satisfied: packaging>=20.0 in c:\\users\\julia\\pycharmprojects\\pythonproject\\.venv\\lib\\site-packages (from matplotlib>=3.4.0->autoreject) (24.2)\n",
      "Requirement already satisfied: pillow>=8 in c:\\users\\julia\\pycharmprojects\\pythonproject\\.venv\\lib\\site-packages (from matplotlib>=3.4.0->autoreject) (11.1.0)\n",
      "Requirement already satisfied: pyparsing>=2.3.1 in c:\\users\\julia\\pycharmprojects\\pythonproject\\.venv\\lib\\site-packages (from matplotlib>=3.4.0->autoreject) (3.2.1)\n",
      "Requirement already satisfied: python-dateutil>=2.7 in c:\\users\\julia\\pycharmprojects\\pythonproject\\.venv\\lib\\site-packages (from matplotlib>=3.4.0->autoreject) (2.9.0.post0)\n",
      "Requirement already satisfied: decorator in c:\\users\\julia\\pycharmprojects\\pythonproject\\.venv\\lib\\site-packages (from mne[hdf5]>=1.0->autoreject) (5.1.1)\n",
      "Requirement already satisfied: jinja2 in c:\\users\\julia\\pycharmprojects\\pythonproject\\.venv\\lib\\site-packages (from mne[hdf5]>=1.0->autoreject) (3.1.5)\n",
      "Requirement already satisfied: lazy-loader>=0.3 in c:\\users\\julia\\pycharmprojects\\pythonproject\\.venv\\lib\\site-packages (from mne[hdf5]>=1.0->autoreject) (0.4)\n",
      "Requirement already satisfied: pooch>=1.5 in c:\\users\\julia\\pycharmprojects\\pythonproject\\.venv\\lib\\site-packages (from mne[hdf5]>=1.0->autoreject) (1.8.2)\n",
      "Requirement already satisfied: tqdm in c:\\users\\julia\\pycharmprojects\\pythonproject\\.venv\\lib\\site-packages (from mne[hdf5]>=1.0->autoreject) (4.67.1)\n",
      "Collecting h5io>=0.2.4 (from mne[hdf5]>=1.0->autoreject)\n",
      "  Obtaining dependency information for h5io>=0.2.4 from https://files.pythonhosted.org/packages/20/8a/767a70e04e4532c05f2b60dc817672e5bfec4911ca6655e8943eadf80670/h5io-0.2.4-py3-none-any.whl.metadata\n",
      "  Downloading h5io-0.2.4-py3-none-any.whl.metadata (3.9 kB)\n",
      "Collecting pymatreader (from mne[hdf5]>=1.0->autoreject)\n",
      "  Obtaining dependency information for pymatreader from https://files.pythonhosted.org/packages/bd/c7/56f50f023e19b0abd3ac93b86d64afdb58a16cca197441be9201bae367b7/pymatreader-1.0.0-py3-none-any.whl.metadata\n",
      "  Downloading pymatreader-1.0.0-py3-none-any.whl.metadata (1.5 kB)\n",
      "Collecting threadpoolctl>=3.1.0 (from scikit-learn>=0.24.2->autoreject)\n",
      "  Obtaining dependency information for threadpoolctl>=3.1.0 from https://files.pythonhosted.org/packages/4b/2c/ffbf7a134b9ab11a67b0cf0726453cedd9c5043a4fe7a35d1cefa9a1bcfb/threadpoolctl-3.5.0-py3-none-any.whl.metadata\n",
      "  Downloading threadpoolctl-3.5.0-py3-none-any.whl.metadata (13 kB)\n",
      "Collecting h5py (from h5io>=0.2.4->mne[hdf5]>=1.0->autoreject)\n",
      "  Obtaining dependency information for h5py from https://files.pythonhosted.org/packages/99/bd/fb8ed45308bb97e04c02bd7aed324ba11e6a4bf9ed73967ca2a168e9cf92/h5py-3.12.1-cp310-cp310-win_amd64.whl.metadata\n",
      "  Downloading h5py-3.12.1-cp310-cp310-win_amd64.whl.metadata (2.5 kB)\n",
      "Requirement already satisfied: platformdirs>=2.5.0 in c:\\users\\julia\\pycharmprojects\\pythonproject\\.venv\\lib\\site-packages (from pooch>=1.5->mne[hdf5]>=1.0->autoreject) (4.3.6)\n",
      "Requirement already satisfied: requests>=2.19.0 in c:\\users\\julia\\pycharmprojects\\pythonproject\\.venv\\lib\\site-packages (from pooch>=1.5->mne[hdf5]>=1.0->autoreject) (2.32.3)\n",
      "Requirement already satisfied: six>=1.5 in c:\\users\\julia\\pycharmprojects\\pythonproject\\.venv\\lib\\site-packages (from python-dateutil>=2.7->matplotlib>=3.4.0->autoreject) (1.17.0)\n",
      "Requirement already satisfied: MarkupSafe>=2.0 in c:\\users\\julia\\pycharmprojects\\pythonproject\\.venv\\lib\\site-packages (from jinja2->mne[hdf5]>=1.0->autoreject) (3.0.2)\n",
      "Collecting xmltodict (from pymatreader->mne[hdf5]>=1.0->autoreject)\n",
      "  Obtaining dependency information for xmltodict from https://files.pythonhosted.org/packages/d6/45/fc303eb433e8a2a271739c98e953728422fa61a3c1f36077a49e395c972e/xmltodict-0.14.2-py2.py3-none-any.whl.metadata\n",
      "  Downloading xmltodict-0.14.2-py2.py3-none-any.whl.metadata (8.0 kB)\n",
      "Requirement already satisfied: colorama in c:\\users\\julia\\pycharmprojects\\pythonproject\\.venv\\lib\\site-packages (from tqdm->mne[hdf5]>=1.0->autoreject) (0.4.6)\n",
      "Requirement already satisfied: charset-normalizer<4,>=2 in c:\\users\\julia\\pycharmprojects\\pythonproject\\.venv\\lib\\site-packages (from requests>=2.19.0->pooch>=1.5->mne[hdf5]>=1.0->autoreject) (3.4.1)\n",
      "Requirement already satisfied: idna<4,>=2.5 in c:\\users\\julia\\pycharmprojects\\pythonproject\\.venv\\lib\\site-packages (from requests>=2.19.0->pooch>=1.5->mne[hdf5]>=1.0->autoreject) (3.10)\n",
      "Requirement already satisfied: urllib3<3,>=1.21.1 in c:\\users\\julia\\pycharmprojects\\pythonproject\\.venv\\lib\\site-packages (from requests>=2.19.0->pooch>=1.5->mne[hdf5]>=1.0->autoreject) (2.3.0)\n",
      "Requirement already satisfied: certifi>=2017.4.17 in c:\\users\\julia\\pycharmprojects\\pythonproject\\.venv\\lib\\site-packages (from requests>=2.19.0->pooch>=1.5->mne[hdf5]>=1.0->autoreject) (2024.12.14)\n",
      "Downloading autoreject-0.4.3-py3-none-any.whl (29 kB)\n",
      "Downloading scikit_learn-1.6.1-cp310-cp310-win_amd64.whl (11.1 MB)\n",
      "   ---------------------------------------- 0.0/11.1 MB ? eta -:--:--\n",
      "   ---------------------------------------- 0.1/11.1 MB 2.4 MB/s eta 0:00:05\n",
      "   - -------------------------------------- 0.4/11.1 MB 3.9 MB/s eta 0:00:03\n",
      "   -- ------------------------------------- 0.6/11.1 MB 4.9 MB/s eta 0:00:03\n",
      "   ---- ----------------------------------- 1.2/11.1 MB 6.7 MB/s eta 0:00:02\n",
      "   ------- -------------------------------- 2.2/11.1 MB 9.5 MB/s eta 0:00:01\n",
      "   ------------------- -------------------- 5.3/11.1 MB 18.8 MB/s eta 0:00:01\n",
      "   ---------------------------- ----------- 8.0/11.1 MB 25.7 MB/s eta 0:00:01\n",
      "   ------------------------------------- -- 10.4/11.1 MB 32.8 MB/s eta 0:00:01\n",
      "   ---------------------------------------  11.1/11.1 MB 46.7 MB/s eta 0:00:01\n",
      "   ---------------------------------------- 11.1/11.1 MB 36.4 MB/s eta 0:00:00\n",
      "Downloading joblib-1.4.2-py3-none-any.whl (301 kB)\n",
      "   ---------------------------------------- 0.0/301.8 kB ? eta -:--:--\n",
      "   --------------------------------------- 301.8/301.8 kB 19.4 MB/s eta 0:00:00\n",
      "Downloading h5io-0.2.4-py3-none-any.whl (17 kB)\n",
      "Downloading threadpoolctl-3.5.0-py3-none-any.whl (18 kB)\n",
      "Downloading pymatreader-1.0.0-py3-none-any.whl (9.3 kB)\n",
      "Downloading h5py-3.12.1-cp310-cp310-win_amd64.whl (3.0 MB)\n",
      "   ---------------------------------------- 0.0/3.0 MB ? eta -:--:--\n",
      "   ---------------------------------------  3.0/3.0 MB 186.2 MB/s eta 0:00:01\n",
      "   ---------------------------------------- 3.0/3.0 MB 63.4 MB/s eta 0:00:00\n",
      "Downloading xmltodict-0.14.2-py2.py3-none-any.whl (10.0 kB)\n",
      "Installing collected packages: xmltodict, threadpoolctl, joblib, h5py, scikit-learn, pymatreader, h5io, autoreject\n",
      "Successfully installed autoreject-0.4.3 h5io-0.2.4 h5py-3.12.1 joblib-1.4.2 pymatreader-1.0.0 scikit-learn-1.6.1 threadpoolctl-3.5.0 xmltodict-0.14.2\n"
     ]
    },
    {
     "name": "stderr",
     "output_type": "stream",
     "text": [
      "\n",
      "[notice] A new release of pip is available: 23.2.1 -> 25.0\n",
      "[notice] To update, run: python.exe -m pip install --upgrade pip\n"
     ]
    }
   ],
   "execution_count": 3
  },
  {
   "cell_type": "markdown",
   "source": [
    "Imports"
   ],
   "metadata": {
    "id": "ERZ87dtp4KTW"
   }
  },
  {
   "cell_type": "code",
   "source": [
    "import os\n",
    "import logging\n",
    "import mne\n",
    "import numpy as np\n",
    "import sys\n",
    "from autoreject import AutoReject\n",
    "from mne.utils import set_log_file"
   ],
   "metadata": {
    "id": "29kC-AX-4FL_",
    "ExecuteTime": {
     "end_time": "2025-03-03T17:05:36.280217Z",
     "start_time": "2025-03-03T17:05:26.158485Z"
    }
   },
   "outputs": [],
   "execution_count": 1
  },
  {
   "cell_type": "markdown",
   "source": [
    "### Create loggers for preprocessing"
   ],
   "metadata": {
    "id": "85-ZtVkpL6RM"
   }
  },
  {
   "cell_type": "code",
   "source": [
    "######## PREPROCESSING ##############################################\n",
    "# Create a custom logger for preprocessing INFO\n",
    "logger_preprocessing_info = logging.getLogger('preprocessing_info')\n",
    "logger_preprocessing_info.setLevel(logging.INFO)\n",
    "logger_preprocessing_info.propagate = False\n",
    "\n",
    "######## ERRORS ##############################################\n",
    "# Create a custom logger for errors\n",
    "logger_errors = logging.getLogger('errors')\n",
    "logger_errors.setLevel(logging.INFO)"
   ],
   "metadata": {
    "id": "g0VXbBruL5x8",
    "ExecuteTime": {
     "end_time": "2025-03-03T17:05:36.310229Z",
     "start_time": "2025-03-03T17:05:36.294219Z"
    }
   },
   "outputs": [],
   "execution_count": 2
  },
  {
   "cell_type": "markdown",
   "source": [
    "Bind loggers to file\n",
    "\n",
    "NOTE: do it only one time"
   ],
   "metadata": {
    "id": "Ycj0pFmtNht8"
   }
  },
  {
   "cell_type": "code",
   "source": [
    "logger_dir_path = f'D:\\studia\\magisterka\\dane EEG\\BADANIE_POLITYCZNE_2022_eeg_bdfy\\logs_from_preprocessing'\n",
    "\n",
    "######## PREPROCESSING ##############################################\n",
    "# Create a file handler for preprocessing and set the level to INFO\n",
    "log_file_preprocessing = os.path.join(logger_dir_path, 'logger_preprocessing.txt')\n",
    "file_handler_preprocessing = logging.FileHandler(log_file_preprocessing)\n",
    "file_handler_preprocessing.setLevel(logging.INFO)\n",
    "\n",
    "# Create a formatter and add it to the file handler for preprocessing\n",
    "formatter_preprocessing = logging.Formatter('%(asctime)s - %(levelname)s - %(message)s')\n",
    "file_handler_preprocessing.setFormatter(formatter_preprocessing)\n",
    "\n",
    "# Add the file handler for method A to the logger for preprocessing\n",
    "logger_preprocessing_info.addHandler(file_handler_preprocessing)\n",
    "\n",
    "######## ERRORS ##############################################\n",
    "# Create a file handler for errors and set the level to INFO\n",
    "log_file_error = os.path.join(logger_dir_path, 'logger_errors.txt')\n",
    "file_handler_errors = logging.FileHandler(log_file_error)\n",
    "file_handler_errors.setLevel(logging.INFO)\n",
    "\n",
    "# Create a formatter and add it to the file handler for errors\n",
    "formatter_errors = logging.Formatter('%(asctime)s - %(levelname)s - %(message)s')\n",
    "file_handler_errors.setFormatter(formatter_errors)\n",
    "\n",
    "# Add the file handler for method A to the logger for preprocessing\n",
    "logger_errors.addHandler(file_handler_errors)\n",
    "\n",
    "##### MNE ###################################################\n",
    "# Create logger for MNE logs\n",
    "logger_f_name = f'./MNE-logs.txt'\n",
    "set_log_file(fname=logger_f_name, output_format=\"%(asctime)s - %(message)s\", overwrite=False)"
   ],
   "metadata": {
    "id": "uL0Timk4Nh15",
    "ExecuteTime": {
     "end_time": "2025-03-03T17:05:36.341230Z",
     "start_time": "2025-03-03T17:05:36.317224Z"
    }
   },
   "outputs": [],
   "execution_count": 3
  },
  {
   "cell_type": "markdown",
   "source": [
    "### Preprocessing"
   ],
   "metadata": {
    "id": "fIJCunFMNoPr"
   }
  },
  {
   "cell_type": "code",
   "source": [
    "def ocular_correction_gratton(epochs, subtract_evoked=False):\n",
    "\n",
    "    if subtract_evoked:\n",
    "        epochs_sub = epochs.copy().subtract_evoked()\n",
    "\n",
    "        eog_model = mne.preprocessing.EOGRegression(\n",
    "            picks=\"eeg\",\n",
    "            picks_artifact=\"eog\"\n",
    "        ).fit(epochs_sub)\n",
    "    else:\n",
    "        eog_model = mne.preprocessing.EOGRegression(\n",
    "            picks=\"eeg\",\n",
    "            picks_artifact=\"eog\"\n",
    "        ).fit(epochs)\n",
    "\n",
    "    epochs_clean_plain = eog_model.apply(epochs, copy=True)\n",
    "\n",
    "    return epochs_clean_plain"
   ],
   "metadata": {
    "id": "kRrXFila8Y-r",
    "ExecuteTime": {
     "end_time": "2025-03-03T17:05:37.275900Z",
     "start_time": "2025-03-03T17:05:37.262898Z"
    }
   },
   "outputs": [],
   "execution_count": 4
  },
  {
   "metadata": {
    "ExecuteTime": {
     "end_time": "2025-03-03T17:05:43.616245Z",
     "start_time": "2025-03-03T17:05:43.599239Z"
    }
   },
   "cell_type": "code",
   "source": [
    "def decimal_to_binary_string(decimal_number):\n",
    "    decimal_number = int(decimal_number)\n",
    "    binary_string = bin(decimal_number)[2:]\n",
    "    binary_string_padded = binary_string.zfill(8)\n",
    "    return binary_string_padded\n",
    "\n",
    "def get_events(raw):\n",
    "    data = raw.get_data('Status').flatten()\n",
    "    ignored_values = [ 65280., 130816.,  65530.,  65535., 131071.]\n",
    "    up_in, up_out, inv_in, inv_out = set(), set(), set(), set()\n",
    "    for i in range(len(data)):\n",
    "        x = data[i]\n",
    "        if x not in ignored_values:\n",
    "            y = x - 65280\n",
    "            y = decimal_to_binary_string(y)\n",
    "            mapping = {(\"0\", \"0\"): up_in, (\"1\", \"0\"): up_out, (\"0\", \"1\"): inv_in, (\"1\", \"1\"): inv_out}\n",
    "            mapping.get((y[0], y[1]), set()).add(x)\n",
    "\n",
    "    events = mne.find_events(raw, stim_channel='Status', shortest_event= 1)\n",
    "    new_events = mne.merge_events(events, up_in, 1)\n",
    "    new_events = mne.merge_events(new_events, up_out, 2)\n",
    "    new_events = mne.merge_events(new_events, inv_in, 3)\n",
    "    new_events = mne.merge_events(new_events, inv_out, 4)\n",
    "    return new_events"
   ],
   "outputs": [],
   "execution_count": 6
  },
  {
   "cell_type": "code",
   "source": [
    "def preprocess_file(file_path, n_jobs=10, random_state=42):\n",
    "  raw = mne.io.read_raw_bdf(\n",
    "        file_path,\n",
    "        eog=['EXG1', 'EXG2', 'EXG3', 'EXG4'], # should be channels with EOG signal, you might verify it\n",
    "        exclude=['EXG5', 'EXG6', 'EXG7', 'EXG8'], # do not read channels we are not interested in\n",
    "        preload=True\n",
    "  )\n",
    "\n",
    "  # 1. set montage\n",
    "  try:\n",
    "      raw = raw.set_montage('biosemi64')\n",
    "  except ValueError as e:\n",
    "      logger_errors.info('Lacks important channels!')\n",
    "\n",
    "  # 2. re-reference: to average\n",
    "  raw.set_eeg_reference(ref_channels='average')\n",
    "\n",
    "  # 3. Notch filter\n",
    "  power_freq = 50\n",
    "  nyquist_freq = raw.info['sfreq'] / 2\n",
    "\n",
    "  raw.notch_filter(\n",
    "      picks=['eeg', 'eog'],\n",
    "      freqs=np.arange(power_freq, nyquist_freq, power_freq),\n",
    "      n_jobs=n_jobs,\n",
    "  )\n",
    "\n",
    "  # 4. Filters epochs\n",
    "  raw_filtered = raw.copy().filter(\n",
    "      picks=['eeg', 'eog'],\n",
    "      l_freq=.05,\n",
    "      h_freq=30.0,\n",
    "      n_jobs=n_jobs,\n",
    "      method='iir',\n",
    "      iir_params=None\n",
    "      )\n",
    "\n",
    "  # 5. Segmentation\n",
    "  events = get_events(raw_filtered)\n",
    "  event_dict = {'up/in': 1, 'up/out' : 2, 'inv/in' : 3, 'inv/out' : 4}\n",
    "\n",
    "  tmin = -0.2\n",
    "  tmax = 0.5\n",
    "  baseline = (-0.2, 0)\n",
    "\n",
    "  epochs = mne.Epochs(\n",
    "      raw = raw_filtered,\n",
    "      events=events,\n",
    "      event_id=event_dict,\n",
    "      tmin=tmin,\n",
    "      tmax=tmax,\n",
    "      baseline=baseline,\n",
    "      reject_by_annotation=False,\n",
    "      preload=True,\n",
    "      reject=None,\n",
    "      picks=['eeg', 'eog'],\n",
    "      on_missing = 'warn',\n",
    "  )\n",
    "\n",
    "  # 6. Resampling epochs to avoid lost of events\n",
    "  epochs.resample(sfreq=128)\n",
    "\n",
    "  # 7. ocular artifact correction with Gratton\n",
    "  epochs_eog_corrected = ocular_correction_gratton(epochs)\n",
    "\n",
    "  # 8. Third re-baseline\n",
    "  epochs_eog_corrected.apply_baseline((-0.2, 0))\n",
    "\n",
    "  # 9. Artifact correction with autoreject\n",
    "  ar = AutoReject(random_state=random_state, n_jobs=n_jobs, verbose=0)\n",
    "  epochs_ar = ar.fit_transform(epochs_eog_corrected, return_log=False)\n",
    "\n",
    "  return epochs_ar"
   ],
   "metadata": {
    "id": "octzrcYpKTxs",
    "ExecuteTime": {
     "end_time": "2025-03-03T17:12:29.066781Z",
     "start_time": "2025-03-03T17:12:29.049778Z"
    }
   },
   "outputs": [],
   "execution_count": 9
  },
  {
   "cell_type": "markdown",
   "source": [
    "Set parameters"
   ],
   "metadata": {
    "id": "u108uji1KU5G"
   }
  },
  {
   "cell_type": "code",
   "source": [
    "random_state=42\n",
    "n_jobs = 10"
   ],
   "metadata": {
    "id": "mXWeDPVzKVFO",
    "ExecuteTime": {
     "end_time": "2025-03-03T17:12:32.335832Z",
     "start_time": "2025-03-03T17:12:32.323819Z"
    }
   },
   "outputs": [],
   "execution_count": 10
  },
  {
   "cell_type": "markdown",
   "source": [
    "Perform proprocessing\n",
    "\n",
    "- Error logs will be stored in: `logger_errors.txt` file, info will be stored in `logger_preprocessing.txt`\n",
    "\n",
    "- Artifact rejection is performed automatically using [`AutoReject`](https://autoreject.github.io/stable/index.html) python package."
   ],
   "metadata": {
    "id": "UdIl9yd4KcHl"
   }
  },
  {
   "cell_type": "code",
   "source": [
    "data_dir = 'D:\\studia\\magisterka\\dane EEG\\BADANIE_POLITYCZNE_2022_eeg_bdfy\\Dane_EEG' # change to your dir\n",
    "output_dir = 'D:\\studia\\magisterka\\dane EEG\\BADANIE_POLITYCZNE_2022_eeg_bdfy\\EEG_preprocessed' # change to your dir\n",
    "\n",
    "# read all .bdf files from dir path\n",
    "bdf_files = [f for f in os.listdir(data_dir) if f.endswith(\".bdf\")]\n",
    "\n",
    "for file_name in bdf_files:\n",
    "  bdf_path = os.path.join(data_dir, file_name)\n",
    "\n",
    "  try:\n",
    "    pre_processed_epochs = preprocess_file(bdf_path, n_jobs=n_jobs, random_state=random_state)\n",
    "    output_file_path = os.path.join(output_dir, f\"{file_name}-epo.fif\")\n",
    "    pre_processed_epochs.save(output_file_path)\n",
    "\n",
    "\n",
    "  except Exception as e:\n",
    "    logger_errors.error(f\"{e}\")"
   ],
   "metadata": {
    "colab": {
     "base_uri": "https://localhost:8080/"
    },
    "id": "p5Ra4khw4Tb0",
    "outputId": "112ea624-86dc-4e01-f492-2257e9561032",
    "ExecuteTime": {
     "end_time": "2025-03-03T19:46:01.910007100Z",
     "start_time": "2025-03-03T17:12:33.673935Z"
    }
   },
   "outputs": [
    {
     "name": "stderr",
     "output_type": "stream",
     "text": [
      "[Parallel(n_jobs=10)]: Using backend LokyBackend with 10 concurrent workers.\n",
      "[Parallel(n_jobs=10)]: Done   8 tasks      | elapsed:    2.6s\n",
      "[Parallel(n_jobs=10)]: Done  68 out of  68 | elapsed:    4.6s finished\n",
      "[Parallel(n_jobs=10)]: Using backend LokyBackend with 10 concurrent workers.\n",
      "[Parallel(n_jobs=10)]: Done   8 tasks      | elapsed:    0.4s\n",
      "[Parallel(n_jobs=10)]: Done  68 out of  68 | elapsed:    2.8s finished\n"
     ]
    },
    {
     "name": "stdout",
     "output_type": "stream",
     "text": [
      "Running autoreject on ch_type=eeg\n",
      "\n",
      "\n",
      "\n",
      "\n",
      "Estimated consensus=0.60 and n_interpolate=4\n"
     ]
    },
    {
     "name": "stderr",
     "output_type": "stream",
     "text": [
      "[Parallel(n_jobs=10)]: Using backend LokyBackend with 10 concurrent workers.\n",
      "[Parallel(n_jobs=10)]: Done   8 tasks      | elapsed:    3.0s\n",
      "[Parallel(n_jobs=10)]: Done  68 out of  68 | elapsed:    4.4s finished\n",
      "[Parallel(n_jobs=10)]: Using backend LokyBackend with 10 concurrent workers.\n",
      "[Parallel(n_jobs=10)]: Done   8 tasks      | elapsed:    0.3s\n",
      "[Parallel(n_jobs=10)]: Done  68 out of  68 | elapsed:    2.1s finished\n"
     ]
    },
    {
     "name": "stdout",
     "output_type": "stream",
     "text": [
      "Running autoreject on ch_type=eeg\n",
      "\n",
      "\n",
      "\n",
      "\n",
      "Estimated consensus=0.60 and n_interpolate=32\n"
     ]
    },
    {
     "name": "stderr",
     "output_type": "stream",
     "text": [
      "[Parallel(n_jobs=10)]: Using backend LokyBackend with 10 concurrent workers.\n",
      "[Parallel(n_jobs=10)]: Done   8 tasks      | elapsed:    2.6s\n",
      "[Parallel(n_jobs=10)]: Done  68 out of  68 | elapsed:    4.0s finished\n",
      "[Parallel(n_jobs=10)]: Using backend LokyBackend with 10 concurrent workers.\n",
      "[Parallel(n_jobs=10)]: Done   8 tasks      | elapsed:    0.3s\n",
      "[Parallel(n_jobs=10)]: Done  68 out of  68 | elapsed:    2.2s finished\n"
     ]
    },
    {
     "name": "stdout",
     "output_type": "stream",
     "text": [
      "Running autoreject on ch_type=eeg\n",
      "\n",
      "\n",
      "\n",
      "\n",
      "Estimated consensus=0.20 and n_interpolate=4\n"
     ]
    },
    {
     "name": "stderr",
     "output_type": "stream",
     "text": [
      "[Parallel(n_jobs=10)]: Using backend LokyBackend with 10 concurrent workers.\n",
      "[Parallel(n_jobs=10)]: Done   8 tasks      | elapsed:    2.7s\n",
      "[Parallel(n_jobs=10)]: Done  68 out of  68 | elapsed:    4.2s finished\n",
      "[Parallel(n_jobs=10)]: Using backend LokyBackend with 10 concurrent workers.\n",
      "[Parallel(n_jobs=10)]: Done   8 tasks      | elapsed:    0.3s\n",
      "[Parallel(n_jobs=10)]: Done  68 out of  68 | elapsed:    2.3s finished\n"
     ]
    },
    {
     "name": "stdout",
     "output_type": "stream",
     "text": [
      "Running autoreject on ch_type=eeg\n",
      "\n",
      "\n",
      "\n",
      "\n",
      "Estimated consensus=0.30 and n_interpolate=1\n"
     ]
    },
    {
     "name": "stderr",
     "output_type": "stream",
     "text": [
      "[Parallel(n_jobs=10)]: Using backend LokyBackend with 10 concurrent workers.\n",
      "[Parallel(n_jobs=10)]: Done   8 tasks      | elapsed:    2.6s\n",
      "[Parallel(n_jobs=10)]: Done  68 out of  68 | elapsed:    3.9s finished\n",
      "[Parallel(n_jobs=10)]: Using backend LokyBackend with 10 concurrent workers.\n",
      "[Parallel(n_jobs=10)]: Done   8 tasks      | elapsed:    0.2s\n",
      "[Parallel(n_jobs=10)]: Done  68 out of  68 | elapsed:    2.0s finished\n"
     ]
    },
    {
     "name": "stdout",
     "output_type": "stream",
     "text": [
      "Running autoreject on ch_type=eeg\n",
      "\n",
      "\n",
      "\n",
      "\n",
      "Estimated consensus=0.30 and n_interpolate=4\n"
     ]
    },
    {
     "name": "stderr",
     "output_type": "stream",
     "text": [
      "[Parallel(n_jobs=10)]: Using backend LokyBackend with 10 concurrent workers.\n",
      "[Parallel(n_jobs=10)]: Done   8 tasks      | elapsed:    2.5s\n",
      "[Parallel(n_jobs=10)]: Done  68 out of  68 | elapsed:    3.7s finished\n",
      "[Parallel(n_jobs=10)]: Using backend LokyBackend with 10 concurrent workers.\n",
      "[Parallel(n_jobs=10)]: Done   8 tasks      | elapsed:    0.3s\n",
      "[Parallel(n_jobs=10)]: Done  68 out of  68 | elapsed:    1.9s finished\n"
     ]
    },
    {
     "name": "stdout",
     "output_type": "stream",
     "text": [
      "Running autoreject on ch_type=eeg\n",
      "\n",
      "\n",
      "\n",
      "\n",
      "Estimated consensus=0.40 and n_interpolate=4\n"
     ]
    },
    {
     "name": "stderr",
     "output_type": "stream",
     "text": [
      "[Parallel(n_jobs=10)]: Using backend LokyBackend with 10 concurrent workers.\n",
      "[Parallel(n_jobs=10)]: Done   8 tasks      | elapsed:    2.8s\n",
      "[Parallel(n_jobs=10)]: Done  68 out of  68 | elapsed:    4.4s finished\n",
      "[Parallel(n_jobs=10)]: Using backend LokyBackend with 10 concurrent workers.\n",
      "[Parallel(n_jobs=10)]: Done   8 tasks      | elapsed:    0.3s\n",
      "[Parallel(n_jobs=10)]: Done  68 out of  68 | elapsed:    2.3s finished\n"
     ]
    },
    {
     "name": "stdout",
     "output_type": "stream",
     "text": [
      "Running autoreject on ch_type=eeg\n",
      "\n",
      "\n",
      "\n",
      "\n",
      "Estimated consensus=0.20 and n_interpolate=4\n"
     ]
    },
    {
     "name": "stderr",
     "output_type": "stream",
     "text": [
      "[Parallel(n_jobs=10)]: Using backend LokyBackend with 10 concurrent workers.\n",
      "[Parallel(n_jobs=10)]: Done   8 tasks      | elapsed:    2.8s\n",
      "[Parallel(n_jobs=10)]: Done  68 out of  68 | elapsed:    4.3s finished\n",
      "[Parallel(n_jobs=10)]: Using backend LokyBackend with 10 concurrent workers.\n",
      "[Parallel(n_jobs=10)]: Done   8 tasks      | elapsed:    0.3s\n",
      "[Parallel(n_jobs=10)]: Done  68 out of  68 | elapsed:    2.0s finished\n"
     ]
    },
    {
     "name": "stdout",
     "output_type": "stream",
     "text": [
      "Running autoreject on ch_type=eeg\n",
      "\n",
      "\n",
      "\n",
      "\n",
      "Estimated consensus=0.40 and n_interpolate=4\n"
     ]
    },
    {
     "name": "stderr",
     "output_type": "stream",
     "text": [
      "[Parallel(n_jobs=10)]: Using backend LokyBackend with 10 concurrent workers.\n",
      "[Parallel(n_jobs=10)]: Done   8 tasks      | elapsed:    2.6s\n",
      "[Parallel(n_jobs=10)]: Done  68 out of  68 | elapsed:    4.0s finished\n",
      "[Parallel(n_jobs=10)]: Using backend LokyBackend with 10 concurrent workers.\n",
      "[Parallel(n_jobs=10)]: Done   8 tasks      | elapsed:    0.2s\n",
      "[Parallel(n_jobs=10)]: Done  68 out of  68 | elapsed:    2.1s finished\n"
     ]
    },
    {
     "name": "stdout",
     "output_type": "stream",
     "text": [
      "Running autoreject on ch_type=eeg\n",
      "\n",
      "\n",
      "\n",
      "\n",
      "Estimated consensus=0.70 and n_interpolate=32\n"
     ]
    },
    {
     "name": "stderr",
     "output_type": "stream",
     "text": [
      "[Parallel(n_jobs=10)]: Using backend LokyBackend with 10 concurrent workers.\n",
      "[Parallel(n_jobs=10)]: Done   8 tasks      | elapsed:    2.8s\n",
      "[Parallel(n_jobs=10)]: Done  68 out of  68 | elapsed:    4.6s finished\n",
      "[Parallel(n_jobs=10)]: Using backend LokyBackend with 10 concurrent workers.\n",
      "[Parallel(n_jobs=10)]: Done   8 tasks      | elapsed:    0.4s\n",
      "[Parallel(n_jobs=10)]: Done  68 out of  68 | elapsed:    2.4s finished\n"
     ]
    },
    {
     "name": "stdout",
     "output_type": "stream",
     "text": [
      "Running autoreject on ch_type=eeg\n",
      "\n",
      "\n",
      "\n",
      "\n",
      "Estimated consensus=0.40 and n_interpolate=1\n"
     ]
    },
    {
     "name": "stderr",
     "output_type": "stream",
     "text": [
      "[Parallel(n_jobs=10)]: Using backend LokyBackend with 10 concurrent workers.\n",
      "[Parallel(n_jobs=10)]: Done   8 tasks      | elapsed:    2.6s\n",
      "[Parallel(n_jobs=10)]: Done  68 out of  68 | elapsed:    4.3s finished\n",
      "[Parallel(n_jobs=10)]: Using backend LokyBackend with 10 concurrent workers.\n",
      "[Parallel(n_jobs=10)]: Done   8 tasks      | elapsed:    0.3s\n",
      "[Parallel(n_jobs=10)]: Done  68 out of  68 | elapsed:    2.4s finished\n"
     ]
    },
    {
     "name": "stdout",
     "output_type": "stream",
     "text": [
      "Running autoreject on ch_type=eeg\n",
      "\n",
      "\n",
      "\n",
      "\n",
      "Estimated consensus=0.30 and n_interpolate=4\n"
     ]
    },
    {
     "name": "stderr",
     "output_type": "stream",
     "text": [
      "[Parallel(n_jobs=10)]: Using backend LokyBackend with 10 concurrent workers.\n",
      "[Parallel(n_jobs=10)]: Done   8 tasks      | elapsed:    2.8s\n",
      "[Parallel(n_jobs=10)]: Done  68 out of  68 | elapsed:    4.9s finished\n",
      "[Parallel(n_jobs=10)]: Using backend LokyBackend with 10 concurrent workers.\n",
      "[Parallel(n_jobs=10)]: Done   8 tasks      | elapsed:    0.4s\n",
      "[Parallel(n_jobs=10)]: Done  68 out of  68 | elapsed:    3.1s finished\n"
     ]
    },
    {
     "name": "stdout",
     "output_type": "stream",
     "text": [
      "Running autoreject on ch_type=eeg\n",
      "\n",
      "\n",
      "\n",
      "\n",
      "Estimated consensus=0.90 and n_interpolate=4\n"
     ]
    },
    {
     "name": "stderr",
     "output_type": "stream",
     "text": [
      "[Parallel(n_jobs=10)]: Using backend LokyBackend with 10 concurrent workers.\n",
      "[Parallel(n_jobs=10)]: Done   8 tasks      | elapsed:    3.2s\n",
      "[Parallel(n_jobs=10)]: Done  68 out of  68 | elapsed:    5.0s finished\n",
      "[Parallel(n_jobs=10)]: Using backend LokyBackend with 10 concurrent workers.\n",
      "[Parallel(n_jobs=10)]: Done   8 tasks      | elapsed:    0.4s\n",
      "[Parallel(n_jobs=10)]: Done  68 out of  68 | elapsed:    2.4s finished\n"
     ]
    },
    {
     "name": "stdout",
     "output_type": "stream",
     "text": [
      "Running autoreject on ch_type=eeg\n",
      "\n",
      "\n",
      "\n",
      "\n",
      "Estimated consensus=0.70 and n_interpolate=4\n"
     ]
    },
    {
     "name": "stderr",
     "output_type": "stream",
     "text": [
      "[Parallel(n_jobs=10)]: Using backend LokyBackend with 10 concurrent workers.\n",
      "[Parallel(n_jobs=10)]: Done   8 tasks      | elapsed:    2.6s\n",
      "[Parallel(n_jobs=10)]: Done  68 out of  68 | elapsed:    4.1s finished\n",
      "[Parallel(n_jobs=10)]: Using backend LokyBackend with 10 concurrent workers.\n",
      "[Parallel(n_jobs=10)]: Done   8 tasks      | elapsed:    0.3s\n",
      "[Parallel(n_jobs=10)]: Done  68 out of  68 | elapsed:    2.1s finished\n"
     ]
    },
    {
     "name": "stdout",
     "output_type": "stream",
     "text": [
      "Running autoreject on ch_type=eeg\n",
      "\n",
      "\n",
      "\n",
      "\n",
      "Estimated consensus=0.40 and n_interpolate=4\n"
     ]
    },
    {
     "name": "stderr",
     "output_type": "stream",
     "text": [
      "[Parallel(n_jobs=10)]: Using backend LokyBackend with 10 concurrent workers.\n",
      "[Parallel(n_jobs=10)]: Done   8 tasks      | elapsed:    2.7s\n",
      "[Parallel(n_jobs=10)]: Done  68 out of  68 | elapsed:    4.4s finished\n",
      "[Parallel(n_jobs=10)]: Using backend LokyBackend with 10 concurrent workers.\n",
      "[Parallel(n_jobs=10)]: Done   8 tasks      | elapsed:    0.4s\n",
      "[Parallel(n_jobs=10)]: Done  68 out of  68 | elapsed:    2.4s finished\n"
     ]
    },
    {
     "name": "stdout",
     "output_type": "stream",
     "text": [
      "Running autoreject on ch_type=eeg\n",
      "\n",
      "\n",
      "\n",
      "\n",
      "Estimated consensus=0.60 and n_interpolate=1\n"
     ]
    },
    {
     "name": "stderr",
     "output_type": "stream",
     "text": [
      "[Parallel(n_jobs=10)]: Using backend LokyBackend with 10 concurrent workers.\n",
      "[Parallel(n_jobs=10)]: Done   8 tasks      | elapsed:    2.6s\n",
      "[Parallel(n_jobs=10)]: Done  68 out of  68 | elapsed:    4.1s finished\n",
      "[Parallel(n_jobs=10)]: Using backend LokyBackend with 10 concurrent workers.\n",
      "[Parallel(n_jobs=10)]: Done   8 tasks      | elapsed:    0.3s\n",
      "[Parallel(n_jobs=10)]: Done  68 out of  68 | elapsed:    2.0s finished\n"
     ]
    },
    {
     "name": "stdout",
     "output_type": "stream",
     "text": [
      "Running autoreject on ch_type=eeg\n",
      "\n",
      "\n",
      "\n",
      "\n",
      "Estimated consensus=0.70 and n_interpolate=4\n"
     ]
    },
    {
     "name": "stderr",
     "output_type": "stream",
     "text": [
      "[Parallel(n_jobs=10)]: Using backend LokyBackend with 10 concurrent workers.\n",
      "[Parallel(n_jobs=10)]: Done   8 tasks      | elapsed:    2.6s\n",
      "[Parallel(n_jobs=10)]: Done  68 out of  68 | elapsed:    4.1s finished\n",
      "[Parallel(n_jobs=10)]: Using backend LokyBackend with 10 concurrent workers.\n",
      "[Parallel(n_jobs=10)]: Done   8 tasks      | elapsed:    0.3s\n",
      "[Parallel(n_jobs=10)]: Done  68 out of  68 | elapsed:    2.0s finished\n"
     ]
    },
    {
     "name": "stdout",
     "output_type": "stream",
     "text": [
      "Running autoreject on ch_type=eeg\n",
      "\n",
      "\n",
      "\n",
      "\n",
      "Estimated consensus=0.50 and n_interpolate=4\n"
     ]
    },
    {
     "name": "stderr",
     "output_type": "stream",
     "text": [
      "[Parallel(n_jobs=10)]: Using backend LokyBackend with 10 concurrent workers.\n",
      "[Parallel(n_jobs=10)]: Done   8 tasks      | elapsed:    2.7s\n",
      "[Parallel(n_jobs=10)]: Done  68 out of  68 | elapsed:    4.5s finished\n",
      "[Parallel(n_jobs=10)]: Using backend LokyBackend with 10 concurrent workers.\n",
      "[Parallel(n_jobs=10)]: Done   8 tasks      | elapsed:    0.4s\n",
      "[Parallel(n_jobs=10)]: Done  68 out of  68 | elapsed:    2.5s finished\n"
     ]
    },
    {
     "name": "stdout",
     "output_type": "stream",
     "text": [
      "Running autoreject on ch_type=eeg\n",
      "\n",
      "\n",
      "\n",
      "\n",
      "Estimated consensus=0.40 and n_interpolate=4\n"
     ]
    },
    {
     "name": "stderr",
     "output_type": "stream",
     "text": [
      "[Parallel(n_jobs=10)]: Using backend LokyBackend with 10 concurrent workers.\n",
      "[Parallel(n_jobs=10)]: Done   8 tasks      | elapsed:    2.6s\n",
      "[Parallel(n_jobs=10)]: Done  68 out of  68 | elapsed:    4.3s finished\n",
      "[Parallel(n_jobs=10)]: Using backend LokyBackend with 10 concurrent workers.\n",
      "[Parallel(n_jobs=10)]: Done   8 tasks      | elapsed:    0.3s\n",
      "[Parallel(n_jobs=10)]: Done  68 out of  68 | elapsed:    2.2s finished\n"
     ]
    },
    {
     "name": "stdout",
     "output_type": "stream",
     "text": [
      "Running autoreject on ch_type=eeg\n",
      "\n",
      "\n",
      "\n",
      "\n",
      "Estimated consensus=0.70 and n_interpolate=4\n"
     ]
    },
    {
     "name": "stderr",
     "output_type": "stream",
     "text": [
      "[Parallel(n_jobs=10)]: Using backend LokyBackend with 10 concurrent workers.\n",
      "[Parallel(n_jobs=10)]: Done   8 tasks      | elapsed:    2.7s\n",
      "[Parallel(n_jobs=10)]: Done  68 out of  68 | elapsed:    4.2s finished\n",
      "[Parallel(n_jobs=10)]: Using backend LokyBackend with 10 concurrent workers.\n",
      "[Parallel(n_jobs=10)]: Done   8 tasks      | elapsed:    0.2s\n",
      "[Parallel(n_jobs=10)]: Done  68 out of  68 | elapsed:    2.0s finished\n"
     ]
    },
    {
     "name": "stdout",
     "output_type": "stream",
     "text": [
      "Running autoreject on ch_type=eeg\n",
      "\n",
      "\n",
      "\n",
      "\n",
      "Estimated consensus=0.30 and n_interpolate=4\n"
     ]
    },
    {
     "name": "stderr",
     "output_type": "stream",
     "text": [
      "[Parallel(n_jobs=10)]: Using backend LokyBackend with 10 concurrent workers.\n",
      "[Parallel(n_jobs=10)]: Done   8 tasks      | elapsed:    2.6s\n",
      "[Parallel(n_jobs=10)]: Done  68 out of  68 | elapsed:    4.0s finished\n",
      "[Parallel(n_jobs=10)]: Using backend LokyBackend with 10 concurrent workers.\n",
      "[Parallel(n_jobs=10)]: Done   8 tasks      | elapsed:    0.3s\n",
      "[Parallel(n_jobs=10)]: Done  68 out of  68 | elapsed:    2.0s finished\n"
     ]
    },
    {
     "name": "stdout",
     "output_type": "stream",
     "text": [
      "Running autoreject on ch_type=eeg\n",
      "\n",
      "\n",
      "\n",
      "\n",
      "Estimated consensus=0.60 and n_interpolate=32\n"
     ]
    },
    {
     "name": "stderr",
     "output_type": "stream",
     "text": [
      "[Parallel(n_jobs=10)]: Using backend LokyBackend with 10 concurrent workers.\n",
      "[Parallel(n_jobs=10)]: Done   8 tasks      | elapsed:    2.6s\n",
      "[Parallel(n_jobs=10)]: Done  68 out of  68 | elapsed:    4.1s finished\n",
      "[Parallel(n_jobs=10)]: Using backend LokyBackend with 10 concurrent workers.\n",
      "[Parallel(n_jobs=10)]: Done   8 tasks      | elapsed:    0.3s\n",
      "[Parallel(n_jobs=10)]: Done  68 out of  68 | elapsed:    2.1s finished\n"
     ]
    },
    {
     "name": "stdout",
     "output_type": "stream",
     "text": [
      "Running autoreject on ch_type=eeg\n",
      "\n",
      "\n",
      "\n",
      "\n",
      "Estimated consensus=0.50 and n_interpolate=4\n"
     ]
    },
    {
     "name": "stderr",
     "output_type": "stream",
     "text": [
      "[Parallel(n_jobs=10)]: Using backend LokyBackend with 10 concurrent workers.\n",
      "[Parallel(n_jobs=10)]: Done   8 tasks      | elapsed:    2.7s\n",
      "[Parallel(n_jobs=10)]: Done  68 out of  68 | elapsed:    4.4s finished\n",
      "[Parallel(n_jobs=10)]: Using backend LokyBackend with 10 concurrent workers.\n",
      "[Parallel(n_jobs=10)]: Done   8 tasks      | elapsed:    0.4s\n",
      "[Parallel(n_jobs=10)]: Done  68 out of  68 | elapsed:    2.4s finished\n"
     ]
    },
    {
     "name": "stdout",
     "output_type": "stream",
     "text": [
      "Running autoreject on ch_type=eeg\n",
      "\n",
      "\n",
      "\n",
      "\n",
      "Estimated consensus=0.50 and n_interpolate=4\n"
     ]
    },
    {
     "name": "stderr",
     "output_type": "stream",
     "text": [
      "[Parallel(n_jobs=10)]: Using backend LokyBackend with 10 concurrent workers.\n",
      "[Parallel(n_jobs=10)]: Done   8 tasks      | elapsed:    2.8s\n",
      "[Parallel(n_jobs=10)]: Done  68 out of  68 | elapsed:    4.2s finished\n",
      "[Parallel(n_jobs=10)]: Using backend LokyBackend with 10 concurrent workers.\n",
      "[Parallel(n_jobs=10)]: Done   8 tasks      | elapsed:    0.3s\n",
      "[Parallel(n_jobs=10)]: Done  68 out of  68 | elapsed:    2.0s finished\n"
     ]
    },
    {
     "name": "stdout",
     "output_type": "stream",
     "text": [
      "Running autoreject on ch_type=eeg\n",
      "\n",
      "\n",
      "\n",
      "\n",
      "Estimated consensus=0.40 and n_interpolate=4\n"
     ]
    },
    {
     "name": "stderr",
     "output_type": "stream",
     "text": [
      "[Parallel(n_jobs=10)]: Using backend LokyBackend with 10 concurrent workers.\n",
      "[Parallel(n_jobs=10)]: Done   8 tasks      | elapsed:    2.6s\n",
      "[Parallel(n_jobs=10)]: Done  68 out of  68 | elapsed:    4.1s finished\n",
      "[Parallel(n_jobs=10)]: Using backend LokyBackend with 10 concurrent workers.\n",
      "[Parallel(n_jobs=10)]: Done   8 tasks      | elapsed:    0.3s\n",
      "[Parallel(n_jobs=10)]: Done  68 out of  68 | elapsed:    2.1s finished\n"
     ]
    },
    {
     "name": "stdout",
     "output_type": "stream",
     "text": [
      "Running autoreject on ch_type=eeg\n",
      "\n",
      "\n",
      "\n",
      "\n",
      "Estimated consensus=0.30 and n_interpolate=4\n"
     ]
    },
    {
     "name": "stderr",
     "output_type": "stream",
     "text": [
      "[Parallel(n_jobs=10)]: Using backend LokyBackend with 10 concurrent workers.\n",
      "[Parallel(n_jobs=10)]: Done   8 tasks      | elapsed:    2.7s\n",
      "[Parallel(n_jobs=10)]: Done  68 out of  68 | elapsed:    4.2s finished\n",
      "[Parallel(n_jobs=10)]: Using backend LokyBackend with 10 concurrent workers.\n",
      "[Parallel(n_jobs=10)]: Done   8 tasks      | elapsed:    0.3s\n",
      "[Parallel(n_jobs=10)]: Done  68 out of  68 | elapsed:    2.1s finished\n"
     ]
    },
    {
     "name": "stdout",
     "output_type": "stream",
     "text": [
      "Running autoreject on ch_type=eeg\n",
      "\n",
      "\n",
      "\n",
      "\n",
      "Estimated consensus=0.10 and n_interpolate=4\n"
     ]
    },
    {
     "name": "stderr",
     "output_type": "stream",
     "text": [
      "[Parallel(n_jobs=10)]: Using backend LokyBackend with 10 concurrent workers.\n",
      "[Parallel(n_jobs=10)]: Done   8 tasks      | elapsed:    2.6s\n",
      "[Parallel(n_jobs=10)]: Done  68 out of  68 | elapsed:    4.2s finished\n",
      "[Parallel(n_jobs=10)]: Using backend LokyBackend with 10 concurrent workers.\n",
      "[Parallel(n_jobs=10)]: Done   8 tasks      | elapsed:    0.2s\n",
      "[Parallel(n_jobs=10)]: Done  68 out of  68 | elapsed:    2.1s finished\n"
     ]
    },
    {
     "name": "stdout",
     "output_type": "stream",
     "text": [
      "Running autoreject on ch_type=eeg\n",
      "\n",
      "\n",
      "\n",
      "\n",
      "Estimated consensus=0.50 and n_interpolate=4\n"
     ]
    },
    {
     "name": "stderr",
     "output_type": "stream",
     "text": [
      "[Parallel(n_jobs=10)]: Using backend LokyBackend with 10 concurrent workers.\n",
      "[Parallel(n_jobs=10)]: Done   8 tasks      | elapsed:    2.7s\n",
      "[Parallel(n_jobs=10)]: Done  68 out of  68 | elapsed:    4.5s finished\n",
      "[Parallel(n_jobs=10)]: Using backend LokyBackend with 10 concurrent workers.\n",
      "[Parallel(n_jobs=10)]: Done   8 tasks      | elapsed:    0.3s\n",
      "[Parallel(n_jobs=10)]: Done  68 out of  68 | elapsed:    2.4s finished\n"
     ]
    },
    {
     "name": "stdout",
     "output_type": "stream",
     "text": [
      "Running autoreject on ch_type=eeg\n",
      "\n",
      "\n",
      "\n",
      "\n",
      "Estimated consensus=0.50 and n_interpolate=4\n"
     ]
    },
    {
     "name": "stderr",
     "output_type": "stream",
     "text": [
      "[Parallel(n_jobs=10)]: Using backend LokyBackend with 10 concurrent workers.\n",
      "[Parallel(n_jobs=10)]: Done   8 tasks      | elapsed:    2.6s\n",
      "[Parallel(n_jobs=10)]: Done  68 out of  68 | elapsed:    4.3s finished\n",
      "[Parallel(n_jobs=10)]: Using backend LokyBackend with 10 concurrent workers.\n",
      "[Parallel(n_jobs=10)]: Done   8 tasks      | elapsed:    0.3s\n",
      "[Parallel(n_jobs=10)]: Done  68 out of  68 | elapsed:    2.2s finished\n"
     ]
    },
    {
     "name": "stdout",
     "output_type": "stream",
     "text": [
      "Running autoreject on ch_type=eeg\n",
      "\n",
      "\n",
      "\n",
      "\n",
      "Estimated consensus=0.30 and n_interpolate=1\n"
     ]
    },
    {
     "name": "stderr",
     "output_type": "stream",
     "text": [
      "[Parallel(n_jobs=10)]: Using backend LokyBackend with 10 concurrent workers.\n",
      "[Parallel(n_jobs=10)]: Done   8 tasks      | elapsed:    2.7s\n",
      "[Parallel(n_jobs=10)]: Done  68 out of  68 | elapsed:    4.3s finished\n",
      "[Parallel(n_jobs=10)]: Using backend LokyBackend with 10 concurrent workers.\n",
      "[Parallel(n_jobs=10)]: Done   8 tasks      | elapsed:    0.3s\n",
      "[Parallel(n_jobs=10)]: Done  68 out of  68 | elapsed:    2.3s finished\n"
     ]
    },
    {
     "name": "stdout",
     "output_type": "stream",
     "text": [
      "Running autoreject on ch_type=eeg\n",
      "\n",
      "\n",
      "\n",
      "\n",
      "Estimated consensus=0.70 and n_interpolate=32\n"
     ]
    },
    {
     "name": "stderr",
     "output_type": "stream",
     "text": [
      "[Parallel(n_jobs=10)]: Using backend LokyBackend with 10 concurrent workers.\n",
      "[Parallel(n_jobs=10)]: Done   8 tasks      | elapsed:    2.7s\n",
      "[Parallel(n_jobs=10)]: Done  68 out of  68 | elapsed:    4.9s finished\n",
      "[Parallel(n_jobs=10)]: Using backend LokyBackend with 10 concurrent workers.\n",
      "[Parallel(n_jobs=10)]: Done   8 tasks      | elapsed:    0.4s\n",
      "[Parallel(n_jobs=10)]: Done  68 out of  68 | elapsed:    3.0s finished\n"
     ]
    },
    {
     "name": "stdout",
     "output_type": "stream",
     "text": [
      "Running autoreject on ch_type=eeg\n",
      "\n",
      "\n",
      "\n",
      "\n",
      "Estimated consensus=0.90 and n_interpolate=32\n"
     ]
    },
    {
     "name": "stderr",
     "output_type": "stream",
     "text": [
      "[Parallel(n_jobs=10)]: Using backend LokyBackend with 10 concurrent workers.\n",
      "[Parallel(n_jobs=10)]: Done   8 tasks      | elapsed:    2.6s\n",
      "[Parallel(n_jobs=10)]: Done  68 out of  68 | elapsed:    4.1s finished\n",
      "[Parallel(n_jobs=10)]: Using backend LokyBackend with 10 concurrent workers.\n",
      "[Parallel(n_jobs=10)]: Done   8 tasks      | elapsed:    0.3s\n",
      "[Parallel(n_jobs=10)]: Done  68 out of  68 | elapsed:    2.1s finished\n"
     ]
    },
    {
     "name": "stdout",
     "output_type": "stream",
     "text": [
      "Running autoreject on ch_type=eeg\n",
      "\n",
      "\n",
      "\n",
      "\n",
      "Estimated consensus=0.20 and n_interpolate=4\n"
     ]
    },
    {
     "name": "stderr",
     "output_type": "stream",
     "text": [
      "[Parallel(n_jobs=10)]: Using backend LokyBackend with 10 concurrent workers.\n",
      "[Parallel(n_jobs=10)]: Done   8 tasks      | elapsed:    2.7s\n",
      "[Parallel(n_jobs=10)]: Done  68 out of  68 | elapsed:    4.4s finished\n",
      "[Parallel(n_jobs=10)]: Using backend LokyBackend with 10 concurrent workers.\n",
      "[Parallel(n_jobs=10)]: Done   8 tasks      | elapsed:    0.3s\n",
      "[Parallel(n_jobs=10)]: Done  68 out of  68 | elapsed:    2.4s finished\n"
     ]
    },
    {
     "name": "stdout",
     "output_type": "stream",
     "text": [
      "Running autoreject on ch_type=eeg\n",
      "\n",
      "\n",
      "\n",
      "\n",
      "Estimated consensus=0.40 and n_interpolate=4\n"
     ]
    },
    {
     "name": "stderr",
     "output_type": "stream",
     "text": [
      "[Parallel(n_jobs=10)]: Using backend LokyBackend with 10 concurrent workers.\n",
      "[Parallel(n_jobs=10)]: Done   8 tasks      | elapsed:    2.6s\n",
      "[Parallel(n_jobs=10)]: Done  68 out of  68 | elapsed:    4.2s finished\n",
      "[Parallel(n_jobs=10)]: Using backend LokyBackend with 10 concurrent workers.\n",
      "[Parallel(n_jobs=10)]: Done   8 tasks      | elapsed:    0.3s\n",
      "[Parallel(n_jobs=10)]: Done  68 out of  68 | elapsed:    2.1s finished\n"
     ]
    },
    {
     "name": "stdout",
     "output_type": "stream",
     "text": [
      "Running autoreject on ch_type=eeg\n",
      "\n",
      "\n",
      "\n",
      "\n",
      "Estimated consensus=0.40 and n_interpolate=1\n"
     ]
    },
    {
     "name": "stderr",
     "output_type": "stream",
     "text": [
      "[Parallel(n_jobs=10)]: Using backend LokyBackend with 10 concurrent workers.\n",
      "[Parallel(n_jobs=10)]: Done   8 tasks      | elapsed:    2.6s\n",
      "[Parallel(n_jobs=10)]: Done  68 out of  68 | elapsed:    4.2s finished\n",
      "[Parallel(n_jobs=10)]: Using backend LokyBackend with 10 concurrent workers.\n",
      "[Parallel(n_jobs=10)]: Done   8 tasks      | elapsed:    0.3s\n",
      "[Parallel(n_jobs=10)]: Done  68 out of  68 | elapsed:    2.2s finished\n"
     ]
    },
    {
     "name": "stdout",
     "output_type": "stream",
     "text": [
      "Running autoreject on ch_type=eeg\n",
      "\n",
      "\n",
      "\n",
      "\n",
      "Estimated consensus=0.20 and n_interpolate=1\n"
     ]
    },
    {
     "name": "stderr",
     "output_type": "stream",
     "text": [
      "[Parallel(n_jobs=10)]: Using backend LokyBackend with 10 concurrent workers.\n",
      "[Parallel(n_jobs=10)]: Done   8 tasks      | elapsed:    2.7s\n",
      "[Parallel(n_jobs=10)]: Done  68 out of  68 | elapsed:    4.8s finished\n",
      "[Parallel(n_jobs=10)]: Using backend LokyBackend with 10 concurrent workers.\n",
      "[Parallel(n_jobs=10)]: Done   8 tasks      | elapsed:    0.4s\n",
      "[Parallel(n_jobs=10)]: Done  68 out of  68 | elapsed:    2.8s finished\n"
     ]
    },
    {
     "name": "stdout",
     "output_type": "stream",
     "text": [
      "Running autoreject on ch_type=eeg\n",
      "\n",
      "\n",
      "\n",
      "\n",
      "Estimated consensus=0.50 and n_interpolate=4\n"
     ]
    }
   ],
   "execution_count": null
  }
 ]
}
